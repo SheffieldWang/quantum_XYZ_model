{
 "cells": [
  {
   "cell_type": "code",
   "execution_count": 6,
   "id": "d47aa053-5c3f-4485-9f5f-6580eae94b66",
   "metadata": {
    "tags": []
   },
   "outputs": [],
   "source": [
    "import scipy as sp \n",
    "from matplotlib import pyplot as plt\n",
    "import cupy as cp\n",
    "from cupy.linalg import eigh\n",
    "import time\n",
    "\n",
    "import pennylane as qml"
   ]
  },
  {
   "cell_type": "code",
   "execution_count": 2,
   "id": "4cbd9ea0-92a1-499f-b22c-c3ec77956b3c",
   "metadata": {
    "tags": []
   },
   "outputs": [],
   "source": [
    "def generate_Heisenberg_hamiltonian(n):\n",
    "    \"\"\"\n",
    "    Generating Hamiltonian of n-qubit Heisenberg model.\n",
    "\n",
    "    Args:\n",
    "        - n (int): The number of qubits \n",
    "\n",
    "    Returns:\n",
    "        - cost_h (qml.Hamiltonian): the hamiltonian of n-qubit Heisenberg model\n",
    "    \"\"\"\n",
    "    coeffs = [1]*3*(n-1)\n",
    "    obs = []\n",
    "    for i in range(n-1):\n",
    "        obs.append(qml.PauliX(i) @ qml.PauliX(i+1) )\n",
    "        obs.append(qml.PauliY(i) @ qml.PauliY(i+1) )\n",
    "        obs.append(qml.PauliZ(i) @ qml.PauliZ(i+1) )\n",
    "    cost_h = qml.Hamiltonian(coeffs, obs)\n",
    "    return cost_h"
   ]
  },
  {
   "cell_type": "code",
   "execution_count": 3,
   "id": "2da71da3-518e-440a-a076-f207309bdc87",
   "metadata": {
    "tags": []
   },
   "outputs": [],
   "source": [
    "def ground_energy(n):\n",
    "    \"\"\" \n",
    "    Computing the ground state energy (minimum eigenvalue) of the n-qubit Heisenberg model using CuPy.\n",
    "    \n",
    "    Args:\n",
    "        - n (int): The number of qubits. \n",
    "\n",
    "    Returns:\n",
    "        - min_energy (floats): Minimum eigenvalue of the Heisenberg model.\n",
    "    \n",
    "    \"\"\"\n",
    "    hamiltonian = generate_Heisenberg_hamiltonian(n)\n",
    "    hamiltonian_matrix = qml.matrix(hamiltonian)\n",
    "    h_matrix_cupy = cp.array(hamiltonian_matrix)\n",
    "    eigv,eigc = eigh(h_matrix_cupy)\n",
    "\n",
    "    return eigv[0]\n",
    "    "
   ]
  },
  {
   "cell_type": "code",
   "execution_count": 4,
   "id": "93fbce58-3819-4dad-8fa8-fbe311c04356",
   "metadata": {
    "tags": []
   },
   "outputs": [],
   "source": [
    "def ground_energy_c(n):\n",
    "    \"\"\" \n",
    "    Computing the ground state energy (minimum eigenvalue) of the n-qubit Heisenberg model using CuPy.\n",
    "    \n",
    "    Args:\n",
    "        - n (int): The number of qubits. \n",
    "\n",
    "    Returns:\n",
    "        - min_energy (floats): Minimum eigenvalue of the Heisenberg model.\n",
    "    \n",
    "    \"\"\"\n",
    "    hamiltonian = generate_Heisenberg_hamiltonian(n)\n",
    "    hamiltonian_matrix = qml.matrix(hamiltonian)\n",
    "    eigv,eigc = sp.sparse.linalg.eigs(hamiltonian_matrix)\n",
    "\n",
    "    return eigv[0]\n",
    "    "
   ]
  },
  {
   "cell_type": "code",
   "execution_count": 26,
   "id": "578233d0-7de2-46cb-9daa-32696f4ea808",
   "metadata": {
    "tags": []
   },
   "outputs": [
    {
     "name": "stdout",
     "output_type": "stream",
     "text": [
      "minimum energy value is  (-27.646948582300272-4.053453086507499e-17j)   the duration is  29.456581830978394 s\n"
     ]
    }
   ],
   "source": [
    "n = 16\n",
    "start_time = time.time()\n",
    "min_energy = ground_energy_c(n)\n",
    "end_time = time.time()\n",
    "duration = (end_time - start_time)\n",
    "print(\"minimum energy value is \", min_energy, \"  the duration is \", duration, \"s\")"
   ]
  },
  {
   "cell_type": "code",
   "execution_count": 21,
   "id": "646cfdec-d9c7-4c81-8ed3-61652a45dd81",
   "metadata": {
    "tags": []
   },
   "outputs": [
    {
     "name": "stdout",
     "output_type": "stream",
     "text": [
      "minimum energy value is  (-28.196979059796924+8.970967346243643e-17j)   the duration is  84.0427610874176 s\n"
     ]
    }
   ],
   "source": [
    "n = 17\n",
    "start_time = time.time()\n",
    "min_energy = ground_energy_c(n)\n",
    "end_time = time.time()\n",
    "duration = (end_time - start_time)\n",
    "print(\"minimum energy value is \", min_energy, \"  the duration is \", duration, \"s\")"
   ]
  },
  {
   "cell_type": "code",
   "execution_count": 22,
   "id": "b913aab9-f0b3-4876-a6dd-1575032f1be1",
   "metadata": {
    "tags": []
   },
   "outputs": [
    {
     "name": "stdout",
     "output_type": "stream",
     "text": [
      "minimum energy value is  (-31.18804427414602+1.694657957069692e-16j)   the duration is  328.7577688694 s\n"
     ]
    }
   ],
   "source": [
    "n = 18\n",
    "start_time = time.time()\n",
    "min_energy = ground_energy_c(n)\n",
    "end_time = time.time()\n",
    "duration = (end_time - start_time)\n",
    "print(\"minimum energy value is \", min_energy, \"  the duration is \", duration, \"s\")"
   ]
  },
  {
   "cell_type": "code",
   "execution_count": 25,
   "id": "35693cdd-e828-42b8-a46c-8e8ee343af74",
   "metadata": {
    "tags": []
   },
   "outputs": [
    {
     "name": "stdout",
     "output_type": "stream",
     "text": [
      "minimum energy value is  (-32.78842296653097-1.2921784243636274e-16j)   the duration is  953.6657018661499 s\n"
     ]
    }
   ],
   "source": [
    "n = 19\n",
    "start_time = time.time()\n",
    "min_energy = ground_energy_c(n)\n",
    "end_time = time.time()\n",
    "duration = (end_time - start_time)\n",
    "print(\"minimum energy value is \", min_energy, \"  the duration is \", duration, \"s\")"
   ]
  },
  {
   "cell_type": "code",
   "execution_count": null,
   "id": "f456c5e6-54b3-4774-8248-d4ad92325b15",
   "metadata": {
    "tags": []
   },
   "outputs": [],
   "source": [
    "n = 20\n",
    "start_time = time.time()\n",
    "min_energy = ground_energy_c(n)\n",
    "end_time = time.time()\n",
    "duration = (end_time - start_time)\n",
    "print(\"minimum energy value is \", min_energy, \"  the duration is \", duration, \"s\")"
   ]
  },
  {
   "cell_type": "code",
   "execution_count": null,
   "id": "88314269-0aad-47ff-b807-e70583f0d951",
   "metadata": {},
   "outputs": [],
   "source": []
  }
 ],
 "metadata": {
  "kernelspec": {
   "display_name": "Python 3 (ipykernel)",
   "language": "python",
   "name": "python3"
  },
  "language_info": {
   "codemirror_mode": {
    "name": "ipython",
    "version": 3
   },
   "file_extension": ".py",
   "mimetype": "text/x-python",
   "name": "python",
   "nbconvert_exporter": "python",
   "pygments_lexer": "ipython3",
   "version": "3.10.9"
  }
 },
 "nbformat": 4,
 "nbformat_minor": 5
}
