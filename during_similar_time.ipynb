{
 "cells": [
  {
   "cell_type": "code",
   "execution_count": 1,
   "id": "0d2653e0-ca8a-4378-9e2d-a469e31af9eb",
   "metadata": {
    "tags": []
   },
   "outputs": [],
   "source": [
    "import scipy as sp \n",
    "from matplotlib import pyplot as plt\n",
    "import cupy as cp\n",
    "from cupy.linalg import eigh\n",
    "\n",
    "from tqdm import *\n",
    "import time\n",
    "import pennylane as qml\n",
    "import pennylane.numpy as np "
   ]
  },
  {
   "cell_type": "code",
   "execution_count": 2,
   "id": "26f89251-8c52-48f9-a3ab-c9dab1619c73",
   "metadata": {
    "tags": []
   },
   "outputs": [],
   "source": [
    "def generate_Heisenberg_hamiltonian(n):\n",
    "    \"\"\"\n",
    "    Generating Hamiltonian of n-qubit Heisenberg model.\n",
    "\n",
    "    Args:\n",
    "        - n (int): The number of qubits \n",
    "\n",
    "    Returns:\n",
    "        - cost_h (qml.Hamiltonian): the hamiltonian of n-qubit Heisenberg model\n",
    "    \"\"\"\n",
    "    coeffs = [1]*3*(n-1)\n",
    "    obs = []\n",
    "    for i in range(n-1):\n",
    "        obs.append(qml.PauliX(i) @ qml.PauliX(i+1) )\n",
    "        obs.append(qml.PauliY(i) @ qml.PauliY(i+1) )\n",
    "        obs.append(qml.PauliZ(i) @ qml.PauliZ(i+1) )\n",
    "    cost_h = qml.Hamiltonian(coeffs, obs)\n",
    "    return cost_h"
   ]
  },
  {
   "cell_type": "code",
   "execution_count": 3,
   "id": "347ee6eb-a0d4-4e28-8421-d51cd0c4a234",
   "metadata": {
    "tags": []
   },
   "outputs": [],
   "source": [
    "def ground_energy(n):\n",
    "    \"\"\" \n",
    "    Computing the ground state energy (minimum eigenvalue) of the n-qubit Heisenberg model using CuPy.\n",
    "    \n",
    "    Args:\n",
    "        - n (int): The number of qubits. \n",
    "\n",
    "    Returns:\n",
    "        - min_energy (floats): Minimum eigenvalue of the Heisenberg model.\n",
    "    \n",
    "    \"\"\"\n",
    "    hamiltonian = generate_Heisenberg_hamiltonian(n)\n",
    "    hamiltonian_matrix = qml.matrix(hamiltonian)\n",
    "    h_matrix_cupy = cp.array(hamiltonian_matrix)\n",
    "    eigv,eigc = eigh(h_matrix_cupy)\n",
    "\n",
    "    return eigv[0]\n",
    "    "
   ]
  },
  {
   "cell_type": "code",
   "execution_count": 4,
   "id": "0179b9b3-0acc-4713-a2e4-877398c0a39b",
   "metadata": {
    "tags": []
   },
   "outputs": [],
   "source": [
    "def qnn_model(params,depth,cost_h):\n",
    "    def U3_layer(params):\n",
    "        for i in range(n_wires):\n",
    "            qml.U3(params[3*i],params[3*i+1],params[3*i+2],wires=i)\n",
    "    \n",
    "    def IsingXYZ_layer(params):\n",
    "        for i in range(n_wires-1):\n",
    "            qml.IsingXY(params[3*i],wires=[i,(i+1)%n_wires])\n",
    "            qml.IsingXY(params[3*i+1],wires=[i,(i+1)%n_wires])\n",
    "            qml.IsingZZ(params[3*i+2],wires=[i,(i+1)%n_wires])\n",
    "            pass\n",
    "\n",
    "    def U3_IsingXYZ(params):\n",
    "        U3_layer(params[0])\n",
    "        IsingXYZ_layer(params[1])\n",
    "\n",
    "    qml.layer(U3_IsingXYZ,depth,params[:-1])\n",
    "    \n",
    "    return qml.expval(cost_h)"
   ]
  },
  {
   "cell_type": "code",
   "execution_count": 28,
   "id": "46058643-36e6-4a1e-9afa-263e9c671408",
   "metadata": {
    "tags": []
   },
   "outputs": [
    {
     "name": "stdout",
     "output_type": "stream",
     "text": [
      "Iter:  1  |  energy value is  -5.9722712164292835   the duration is  1.4094064235687256 s\n",
      "Iter:  2  |  energy value is  -9.59879015220182   the duration is  3.4110159873962402 s\n",
      "Iter:  3  |  energy value is  -13.615104771825724   the duration is  5.271894216537476 s\n",
      "Iter:  4  |  energy value is  -16.577523699767585   the duration is  7.234115362167358 s\n",
      "Iter:  5  |  energy value is  -18.670306688808694   the duration is  9.226383209228516 s\n",
      "Iter:  6  |  energy value is  -18.797264825549714   the duration is  11.26986050605774 s\n",
      "Iter:  7  |  energy value is  -20.016828295054182   the duration is  13.185389280319214 s\n",
      "Iter:  8  |  energy value is  -20.44764648012978   the duration is  15.239906311035156 s\n",
      "Iter:  9  |  energy value is  -20.923405602457894   the duration is  17.210930109024048 s\n",
      "Iter:  10  |  energy value is  -22.27884986087045   the duration is  19.077866554260254 s\n",
      "Iter:  11  |  energy value is  -22.897960642316498   the duration is  20.962862730026245 s\n",
      "Iter:  12  |  energy value is  -22.614819975269686   the duration is  23.002548456192017 s\n",
      "Iter:  13  |  energy value is  -22.62714658788995   the duration is  24.873201370239258 s\n",
      "Iter:  14  |  energy value is  -22.936006995218964   the duration is  26.8531014919281 s\n",
      "Iter:  15  |  energy value is  -23.612204220367865   the duration is  28.826905488967896 s\n",
      "Iter:  16  |  energy value is  -23.98389090070796   the duration is  30.692059755325317 s\n"
     ]
    }
   ],
   "source": [
    "n = 16\n",
    "depth = 4\n",
    "n_wires = n\n",
    "dev = qml.device('default.qubit', wires=n_wires)\n",
    "cost_h = generate_Heisenberg_hamiltonian(n)\n",
    "\n",
    "@qml.qnode(dev)\n",
    "def cost_fn(params):\n",
    "    return qnn_model(params,depth,cost_h)\n",
    "\n",
    "optimizer = qml.AdamOptimizer(stepsize=0.2)\n",
    "init_params = np.random.uniform(-1/depth*np.pi,1/depth*np.pi,size = (depth+1,2,n_wires*3))\n",
    "steps = 200\n",
    "params = init_params\n",
    "start_time = time.time()\n",
    "for i in range(steps):\n",
    "        params = optimizer.step(cost_fn, params)\n",
    "        end_time = time.time()\n",
    "        cost_tmp = cost_fn(params)\n",
    "        duration = (end_time - start_time)\n",
    "        print(\"Iter: \", i+1, \" | \", \"energy value is \", cost_tmp, \"  the duration is \", duration, \"s\")\n",
    "        if(duration > 30):\n",
    "            break;"
   ]
  },
  {
   "cell_type": "code",
   "execution_count": 29,
   "id": "19aa91cd-08f7-4dd6-8a0c-42265ec10eb2",
   "metadata": {
    "tags": []
   },
   "outputs": [
    {
     "name": "stdout",
     "output_type": "stream",
     "text": [
      "Iter:  1  |  energy value is  -2.9404505600475392   the duration is  2.7079625129699707 s\n",
      "Iter:  2  |  energy value is  -10.387594685339181   the duration is  6.110752582550049 s\n",
      "Iter:  3  |  energy value is  -12.83595053810762   the duration is  9.602944612503052 s\n",
      "Iter:  4  |  energy value is  -15.795066213194236   the duration is  13.355042695999146 s\n",
      "Iter:  5  |  energy value is  -18.59478865751905   the duration is  17.01283359527588 s\n",
      "Iter:  6  |  energy value is  -19.00685222010917   the duration is  20.397630214691162 s\n",
      "Iter:  7  |  energy value is  -20.921501964787147   the duration is  23.975157260894775 s\n",
      "Iter:  8  |  energy value is  -22.418781028794456   the duration is  27.341576099395752 s\n",
      "Iter:  9  |  energy value is  -22.582864372280152   the duration is  30.85352325439453 s\n",
      "Iter:  10  |  energy value is  -23.438491412056518   the duration is  34.28369617462158 s\n",
      "Iter:  11  |  energy value is  -24.697636181440004   the duration is  37.87183690071106 s\n",
      "Iter:  12  |  energy value is  -25.53191074747382   the duration is  41.26119422912598 s\n",
      "Iter:  13  |  energy value is  -26.028937013805166   the duration is  44.79281139373779 s\n",
      "Iter:  14  |  energy value is  -26.009193670735012   the duration is  48.36508512496948 s\n",
      "Iter:  15  |  energy value is  -26.091856589371602   the duration is  52.97624397277832 s\n",
      "Iter:  16  |  energy value is  -26.71993758198436   the duration is  56.40871238708496 s\n",
      "Iter:  17  |  energy value is  -27.12465008885577   the duration is  59.91856932640076 s\n",
      "Iter:  18  |  energy value is  -27.116679729704984   the duration is  63.72137212753296 s\n",
      "Iter:  19  |  energy value is  -27.228489453894355   the duration is  67.13347625732422 s\n",
      "Iter:  20  |  energy value is  -27.536000042017974   the duration is  70.94177603721619 s\n",
      "Iter:  21  |  energy value is  -27.677739146499217   the duration is  74.34666180610657 s\n",
      "Iter:  22  |  energy value is  -27.568542623475633   the duration is  77.88847184181213 s\n",
      "Iter:  23  |  energy value is  -27.612947800883738   the duration is  81.27783489227295 s\n",
      "Iter:  24  |  energy value is  -27.87477678772049   the duration is  84.7880437374115 s\n",
      "Iter:  25  |  energy value is  -28.0268913359272   the duration is  88.3340494632721 s\n"
     ]
    }
   ],
   "source": [
    "n = 17\n",
    "depth = 4\n",
    "n_wires = n\n",
    "dev = qml.device('default.qubit', wires=n_wires)\n",
    "cost_h = generate_Heisenberg_hamiltonian(n)\n",
    "\n",
    "@qml.qnode(dev)\n",
    "def cost_fn(params):\n",
    "    return qnn_model(params,depth,cost_h)\n",
    "\n",
    "optimizer = qml.AdamOptimizer(stepsize=0.2)\n",
    "init_params = np.random.uniform(-1/depth*np.pi,1/depth*np.pi,size = (depth+1,2,n_wires*3))\n",
    "steps = 200\n",
    "params = init_params\n",
    "start_time = time.time()\n",
    "for i in range(steps):\n",
    "        params = optimizer.step(cost_fn, params)\n",
    "        end_time = time.time()\n",
    "        cost_tmp = cost_fn(params)\n",
    "        duration = (end_time - start_time)\n",
    "        print(\"Iter: \", i+1, \" | \", \"energy value is \", cost_tmp, \"  the duration is \", duration, \"s\")\n",
    "        if(duration > 85):\n",
    "            break;"
   ]
  },
  {
   "cell_type": "code",
   "execution_count": 5,
   "id": "d84d1e32-8439-4dcb-92e3-6afea9cfd971",
   "metadata": {
    "tags": []
   },
   "outputs": [
    {
     "name": "stderr",
     "output_type": "stream",
     "text": [
      "/opt/conda/lib/python3.10/site-packages/autograd/numpy/numpy_vjps.py:698: ComplexWarning: Casting complex values to real discards the imaginary part\n",
      "  onp.add.at(A, idx, x)\n"
     ]
    },
    {
     "name": "stdout",
     "output_type": "stream",
     "text": [
      "Iter:  1  |  energy value is  -3.9955240279144704   the duration is  5.262375593185425 s\n",
      "Iter:  2  |  energy value is  -11.791377033456339   the duration is  11.89578104019165 s\n",
      "Iter:  3  |  energy value is  -13.80765508484244   the duration is  18.594464778900146 s\n",
      "Iter:  4  |  energy value is  -17.905355011649608   the duration is  25.315962076187134 s\n",
      "Iter:  5  |  energy value is  -20.017708384479686   the duration is  32.27422022819519 s\n",
      "Iter:  6  |  energy value is  -20.566225512988098   the duration is  38.99856948852539 s\n",
      "Iter:  7  |  energy value is  -21.803515906326755   the duration is  45.696842670440674 s\n",
      "Iter:  8  |  energy value is  -23.29406988843324   the duration is  52.38852620124817 s\n",
      "Iter:  9  |  energy value is  -23.94062984300338   the duration is  58.98687767982483 s\n",
      "Iter:  10  |  energy value is  -25.16315859676941   the duration is  65.70987033843994 s\n",
      "Iter:  11  |  energy value is  -25.748077051573294   the duration is  72.37916254997253 s\n",
      "Iter:  12  |  energy value is  -26.024033500741247   the duration is  79.337331533432 s\n",
      "Iter:  13  |  energy value is  -26.30991864240501   the duration is  86.10083866119385 s\n",
      "Iter:  14  |  energy value is  -26.974244335008706   the duration is  92.76710247993469 s\n",
      "Iter:  15  |  energy value is  -27.238628509177865   the duration is  99.45162558555603 s\n",
      "Iter:  16  |  energy value is  -27.46680857317099   the duration is  106.12576913833618 s\n",
      "Iter:  17  |  energy value is  -27.641774980874015   the duration is  112.94705057144165 s\n",
      "Iter:  18  |  energy value is  -27.83464637866374   the duration is  119.7412314414978 s\n",
      "Iter:  19  |  energy value is  -27.774395359841893   the duration is  126.70795392990112 s\n",
      "Iter:  20  |  energy value is  -27.786693774788272   the duration is  133.43336653709412 s\n",
      "Iter:  21  |  energy value is  -28.144126780827722   the duration is  140.13508462905884 s\n",
      "Iter:  35  |  energy value is  -29.788190083714007   the duration is  234.55592036247253 s\n",
      "Iter:  36  |  energy value is  -29.87643793134658   the duration is  241.33850860595703 s\n",
      "Iter:  37  |  energy value is  -29.956763145140844   the duration is  248.04891967773438 s\n",
      "Iter:  38  |  energy value is  -30.027330325544295   the duration is  254.95323252677917 s\n",
      "Iter:  39  |  energy value is  -30.107535627437983   the duration is  261.78304982185364 s\n",
      "Iter:  40  |  energy value is  -30.173846062302594   the duration is  268.65891671180725 s\n",
      "Iter:  41  |  energy value is  -30.22035737427787   the duration is  275.3272387981415 s\n",
      "Iter:  42  |  energy value is  -30.23229767792338   the duration is  282.2770686149597 s\n",
      "Iter:  43  |  energy value is  -30.251458182208562   the duration is  289.1633565425873 s\n",
      "Iter:  44  |  energy value is  -30.29812397845851   the duration is  296.4433271884918 s\n",
      "Iter:  45  |  energy value is  -30.367326893664508   the duration is  303.38825368881226 s\n",
      "Iter:  46  |  energy value is  -30.421481677623095   the duration is  310.3379955291748 s\n",
      "Iter:  47  |  energy value is  -30.47728789044897   the duration is  317.1736385822296 s\n",
      "Iter:  48  |  energy value is  -30.52959640781429   the duration is  323.9754755496979 s\n",
      "Iter:  49  |  energy value is  -30.560535769766314   the duration is  330.778240442276 s\n"
     ]
    }
   ],
   "source": [
    "n = 18\n",
    "depth = 4\n",
    "n_wires = n\n",
    "dev = qml.device('default.qubit', wires=n_wires)\n",
    "cost_h = generate_Heisenberg_hamiltonian(n)\n",
    "\n",
    "@qml.qnode(dev)\n",
    "def cost_fn(params):\n",
    "    return qnn_model(params,depth,cost_h)\n",
    "\n",
    "optimizer = qml.AdamOptimizer(stepsize=0.2)\n",
    "init_params = np.random.uniform(-1/depth*np.pi,1/depth*np.pi,size = (depth+1,2,n_wires*3))\n",
    "steps = 200\n",
    "params = init_params\n",
    "start_time = time.time()\n",
    "for i in range(steps):\n",
    "        params = optimizer.step(cost_fn, params)\n",
    "        end_time = time.time()\n",
    "        cost_tmp = cost_fn(params)\n",
    "        duration = (end_time - start_time)\n",
    "        print(\"Iter: \", i+1, \" | \", \"energy value is \", cost_tmp, \"  the duration is \", duration, \"s\")\n",
    "        if(duration > 329):\n",
    "            break;"
   ]
  },
  {
   "cell_type": "code",
   "execution_count": 5,
   "id": "977b3b72-56a0-4419-9787-5b6c4370379c",
   "metadata": {
    "tags": []
   },
   "outputs": [
    {
     "name": "stderr",
     "output_type": "stream",
     "text": [
      "/opt/conda/lib/python3.10/site-packages/autograd/numpy/numpy_vjps.py:698: ComplexWarning: Casting complex values to real discards the imaginary part\n",
      "  onp.add.at(A, idx, x)\n"
     ]
    },
    {
     "name": "stdout",
     "output_type": "stream",
     "text": [
      "Iter:  1  |  energy value is  -3.8881868099712493   the duration is  11.004028797149658 s\n",
      "Iter:  2  |  energy value is  -11.188249806632916   the duration is  24.811256647109985 s\n",
      "Iter:  3  |  energy value is  -14.89549677834122   the duration is  38.98478555679321 s\n",
      "Iter:  4  |  energy value is  -17.390726838929062   the duration is  53.06993222236633 s\n",
      "Iter:  5  |  energy value is  -19.329735391268862   the duration is  66.9375810623169 s\n",
      "Iter:  6  |  energy value is  -21.89436158267239   the duration is  80.66530656814575 s\n",
      "Iter:  7  |  energy value is  -22.69935650621698   the duration is  95.17704272270203 s\n",
      "Iter:  8  |  energy value is  -23.62799047728496   the duration is  109.25209069252014 s\n",
      "Iter:  9  |  energy value is  -25.172509163917283   the duration is  123.08505463600159 s\n",
      "Iter:  10  |  energy value is  -25.854392937802878   the duration is  137.26361894607544 s\n",
      "Iter:  11  |  energy value is  -26.251843511110575   the duration is  151.0401713848114 s\n",
      "Iter:  12  |  energy value is  -26.938439802768876   the duration is  165.03476238250732 s\n",
      "Iter:  13  |  energy value is  -27.438755488921792   the duration is  179.1790030002594 s\n",
      "Iter:  14  |  energy value is  -27.837654774871613   the duration is  193.02737998962402 s\n",
      "Iter:  15  |  energy value is  -28.364881886389043   the duration is  206.91069984436035 s\n",
      "Iter:  16  |  energy value is  -28.628355362604   the duration is  220.7143771648407 s\n",
      "Iter:  17  |  energy value is  -28.704994038123576   the duration is  234.92646551132202 s\n",
      "Iter:  18  |  energy value is  -29.044154405725237   the duration is  249.03017115592957 s\n",
      "Iter:  19  |  energy value is  -29.460371307416448   the duration is  263.0052411556244 s\n",
      "Iter:  20  |  energy value is  -29.699280482436702   the duration is  277.29594349861145 s\n",
      "Iter:  21  |  energy value is  -29.803105382044095   the duration is  291.4092445373535 s\n",
      "Iter:  22  |  energy value is  -29.993213013874414   the duration is  305.4606981277466 s\n",
      "Iter:  23  |  energy value is  -30.390429301151208   the duration is  319.5387306213379 s\n",
      "Iter:  24  |  energy value is  -30.798606207315796   the duration is  333.3569691181183 s\n",
      "Iter:  25  |  energy value is  -31.044983653862836   the duration is  347.35913848876953 s\n",
      "Iter:  26  |  energy value is  -31.117443572650892   the duration is  361.3655023574829 s\n",
      "Iter:  27  |  energy value is  -31.105669706628866   the duration is  375.2296566963196 s\n",
      "Iter:  28  |  energy value is  -31.15121616099374   the duration is  389.05476570129395 s\n",
      "Iter:  29  |  energy value is  -31.35905346887746   the duration is  402.88368916511536 s\n",
      "Iter:  30  |  energy value is  -31.50327545632339   the duration is  416.9058425426483 s\n",
      "Iter:  31  |  energy value is  -31.531498786520896   the duration is  430.6880638599396 s\n",
      "Iter:  32  |  energy value is  -31.613536998447167   the duration is  444.88172245025635 s\n",
      "Iter:  33  |  energy value is  -31.681714437117428   the duration is  458.85055923461914 s\n",
      "Iter:  34  |  energy value is  -31.71424855905275   the duration is  472.8613862991333 s\n",
      "Iter:  35  |  energy value is  -31.735906455763057   the duration is  486.79668617248535 s\n",
      "Iter:  36  |  energy value is  -31.729773959959868   the duration is  500.822012424469 s\n",
      "Iter:  37  |  energy value is  -31.796278523893488   the duration is  514.6588859558105 s\n",
      "Iter:  38  |  energy value is  -31.858329113859806   the duration is  528.4298436641693 s\n",
      "Iter:  39  |  energy value is  -31.88464992384148   the duration is  542.399311542511 s\n",
      "Iter:  40  |  energy value is  -31.91501315448109   the duration is  556.161365032196 s\n",
      "Iter:  41  |  energy value is  -31.946031170918264   the duration is  570.3135104179382 s\n",
      "Iter:  42  |  energy value is  -31.986005948408906   the duration is  584.4545652866364 s\n",
      "Iter:  43  |  energy value is  -32.0165570138916   the duration is  598.2184302806854 s\n",
      "Iter:  44  |  energy value is  -32.03978472442205   the duration is  612.1671078205109 s\n",
      "Iter:  45  |  energy value is  -32.06875992941773   the duration is  626.4579403400421 s\n",
      "Iter:  46  |  energy value is  -32.07102406195472   the duration is  640.4852380752563 s\n",
      "Iter:  47  |  energy value is  -32.07098255632335   the duration is  654.3434157371521 s\n",
      "Iter:  48  |  energy value is  -32.07868943592942   the duration is  668.1695899963379 s\n",
      "Iter:  49  |  energy value is  -32.09617027478739   the duration is  682.1941766738892 s\n",
      "Iter:  50  |  energy value is  -32.13212163413339   the duration is  696.0770602226257 s\n",
      "Iter:  51  |  energy value is  -32.13814297844603   the duration is  709.9072408676147 s\n",
      "Iter:  52  |  energy value is  -32.147677177171396   the duration is  723.9250888824463 s\n",
      "Iter:  53  |  energy value is  -32.15476869909188   the duration is  737.7066841125488 s\n",
      "Iter:  54  |  energy value is  -32.15977401434245   the duration is  751.4166166782379 s\n",
      "Iter:  55  |  energy value is  -32.174972576355216   the duration is  765.2534399032593 s\n",
      "Iter:  56  |  energy value is  -32.18895361633641   the duration is  779.2473697662354 s\n",
      "Iter:  57  |  energy value is  -32.1924494347334   the duration is  793.1362206935883 s\n",
      "Iter:  58  |  energy value is  -32.2025188293559   the duration is  806.9368009567261 s\n",
      "Iter:  59  |  energy value is  -32.20594315682274   the duration is  820.8598589897156 s\n",
      "Iter:  60  |  energy value is  -32.211766306012045   the duration is  834.5789725780487 s\n",
      "Iter:  61  |  energy value is  -32.21264835214867   the duration is  848.3820686340332 s\n",
      "Iter:  62  |  energy value is  -32.22037089145248   the duration is  862.4105122089386 s\n",
      "Iter:  63  |  energy value is  -32.22084081095522   the duration is  876.2881035804749 s\n",
      "Iter:  64  |  energy value is  -32.22941895108683   the duration is  890.0887777805328 s\n",
      "Iter:  65  |  energy value is  -32.23260438360219   the duration is  903.9013514518738 s\n",
      "Iter:  66  |  energy value is  -32.236446600777434   the duration is  917.964212179184 s\n",
      "Iter:  67  |  energy value is  -32.238683536292854   the duration is  931.7776470184326 s\n",
      "Iter:  68  |  energy value is  -32.24141091620617   the duration is  945.5362300872803 s\n",
      "Iter:  69  |  energy value is  -32.245361803932624   the duration is  960.1982529163361 s\n"
     ]
    }
   ],
   "source": [
    "n = 19\n",
    "depth = 4\n",
    "n_wires = n\n",
    "dev = qml.device('default.qubit', wires=n_wires)\n",
    "cost_h = generate_Heisenberg_hamiltonian(n)\n",
    "\n",
    "@qml.qnode(dev)\n",
    "def cost_fn(params):\n",
    "    return qnn_model(params,depth,cost_h)\n",
    "\n",
    "optimizer = qml.AdamOptimizer(stepsize=0.2)\n",
    "init_params = np.random.uniform(-1/depth*np.pi,1/depth*np.pi,size = (depth+1,2,n_wires*3))\n",
    "steps = 200\n",
    "params = init_params\n",
    "start_time = time.time()\n",
    "for i in range(steps):\n",
    "        params = optimizer.step(cost_fn, params)\n",
    "        end_time = time.time()\n",
    "        cost_tmp = cost_fn(params)\n",
    "        duration = (end_time - start_time)\n",
    "        print(\"Iter: \", i+1, \" | \", \"energy value is \", cost_tmp, \"  the duration is \", duration, \"s\")\n",
    "        if(duration > 954):\n",
    "            break;"
   ]
  },
  {
   "cell_type": "code",
   "execution_count": null,
   "id": "967b1779-7066-43cf-89c4-7b2473b200d6",
   "metadata": {},
   "outputs": [],
   "source": []
  }
 ],
 "metadata": {
  "kernelspec": {
   "display_name": "Python 3 (ipykernel)",
   "language": "python",
   "name": "python3"
  },
  "language_info": {
   "codemirror_mode": {
    "name": "ipython",
    "version": 3
   },
   "file_extension": ".py",
   "mimetype": "text/x-python",
   "name": "python",
   "nbconvert_exporter": "python",
   "pygments_lexer": "ipython3",
   "version": "3.10.9"
  }
 },
 "nbformat": 4,
 "nbformat_minor": 5
}
