{
 "cells": [
  {
   "cell_type": "code",
   "execution_count": 1,
   "id": "2458dd89-788e-4535-a285-3520ae12acf3",
   "metadata": {
    "tags": []
   },
   "outputs": [],
   "source": [
    "import scipy as sp \n",
    "from matplotlib import pyplot as plt\n",
    "import cupy as cp\n",
    "from cupy.linalg import eigh\n",
    "\n",
    "from tqdm import *\n",
    "\n",
    "import pennylane as qml\n",
    "import pennylane.numpy as np "
   ]
  },
  {
   "cell_type": "code",
   "execution_count": 2,
   "id": "75e3c4d2-b4b5-497f-acff-6b4982d22491",
   "metadata": {
    "tags": []
   },
   "outputs": [],
   "source": [
    "n = 8\n",
    "n_wires = n\n",
    "dev = qml.device(\"lightning.gpu\", wires=n_wires)"
   ]
  },
  {
   "cell_type": "code",
   "execution_count": 3,
   "id": "4a3a8327-f27e-4a1c-8061-5d9bc524893b",
   "metadata": {
    "tags": []
   },
   "outputs": [],
   "source": [
    "def generate_Heisenberg_hamiltonian(n):\n",
    "    \"\"\"\n",
    "    Generating Hamiltonian of n-qubit Heisenberg model.\n",
    "\n",
    "    Args:\n",
    "        - n (int): The number of qubits \n",
    "\n",
    "    Returns:\n",
    "        - cost_h (qml.Hamiltonian): the hamiltonian of n-qubit Heisenberg model\n",
    "    \"\"\"\n",
    "    coeffs = [1]*3*(n-1)\n",
    "    obs = []\n",
    "    for i in range(n-1):\n",
    "        obs.append(qml.PauliX(i) @ qml.PauliX(i+1) )\n",
    "        obs.append(qml.PauliY(i) @ qml.PauliY(i+1) )\n",
    "        obs.append(qml.PauliZ(i) @ qml.PauliZ(i+1) )\n",
    "    cost_h = qml.Hamiltonian(coeffs, obs)\n",
    "    return cost_h"
   ]
  },
  {
   "cell_type": "code",
   "execution_count": 4,
   "id": "c3badcc3-ee46-499c-8867-6ce96b18de81",
   "metadata": {
    "tags": []
   },
   "outputs": [],
   "source": [
    "def ground_energy(n):\n",
    "    \"\"\" \n",
    "    Computing the ground state energy (minimum eigenvalue) of the n-qubit Heisenberg model using CuPy.\n",
    "    \n",
    "    Args:\n",
    "        - n (int): The number of qubits. \n",
    "\n",
    "    Returns:\n",
    "        - min_energy (floats): Minimum eigenvalue of the Heisenberg model.\n",
    "    \n",
    "    \"\"\"\n",
    "    hamiltonian = generate_Heisenberg_hamiltonian(n)\n",
    "    hamiltonian_matrix = qml.matrix(hamiltonian)\n",
    "    h_matrix_cupy = cp.array(hamiltonian_matrix)\n",
    "    eigv,eigc = eigh(h_matrix_cupy)\n",
    "\n",
    "    return eigv[0]\n",
    "    "
   ]
  },
  {
   "cell_type": "code",
   "execution_count": 11,
   "id": "842264f5-9482-4f77-9691-3004ed6b461d",
   "metadata": {
    "tags": []
   },
   "outputs": [
    {
     "name": "stderr",
     "output_type": "stream",
     "text": [
      "100%|██████████| 12/12 [02:07<00:00, 10.64s/it]\n"
     ]
    },
    {
     "name": "stdout",
     "output_type": "stream",
     "text": [
      "[array(-6.46410162), array(-7.71154501), array(-9.97430854), array(-11.34495872), array(-13.49973039), array(-14.94528683), array(-17.03214083), array(-18.52837321), array(-20.56836253), array(-22.10128839), array(-24.10689865), array(-25.66768197)]\n"
     ]
    }
   ],
   "source": [
    "min_energies = []\n",
    "for i in trange(4,16):\n",
    "    min_energy = ground_energy(i)\n",
    "    min_energies.append(min_energy)\n",
    "print(min_energies)"
   ]
  },
  {
   "cell_type": "code",
   "execution_count": 12,
   "id": "56571a9d-5e16-450d-bc3f-ddcb09666453",
   "metadata": {
    "tags": []
   },
   "outputs": [
    {
     "data": {
      "text/plain": [
       "[array(-6.46410162),\n",
       " array(-7.71154501),\n",
       " array(-9.97430854),\n",
       " array(-11.34495872),\n",
       " array(-13.49973039),\n",
       " array(-14.94528683),\n",
       " array(-17.03214083),\n",
       " array(-18.52837321),\n",
       " array(-20.56836253),\n",
       " array(-22.10128839),\n",
       " array(-24.10689865),\n",
       " array(-25.66768197)]"
      ]
     },
     "execution_count": 12,
     "metadata": {},
     "output_type": "execute_result"
    }
   ],
   "source": [
    "min_energies"
   ]
  },
  {
   "cell_type": "code",
   "execution_count": 97,
   "id": "69ecad43-ecdf-4f3b-bff1-4e488d397d83",
   "metadata": {
    "tags": []
   },
   "outputs": [],
   "source": [
    "def qnn_model(params,depth,cost_h):\n",
    "    def U3_layer(params):\n",
    "        for i in range(n_wires):\n",
    "            qml.U3(params[3*i],params[3*i+1],params[3*i+2],wires=i)\n",
    "    \n",
    "    def IsingXYZ_layer(params):\n",
    "        for i in range(n_wires-1):\n",
    "            qml.IsingXY(params[3*i],wires=[i,(i+1)%n_wires])\n",
    "            qml.IsingXY(params[3*i+1],wires=[i,(i+1)%n_wires])\n",
    "            qml.IsingZZ(params[3*i+2],wires=[i,(i+1)%n_wires])\n",
    "            pass\n",
    "\n",
    "    def U3_IsingXYZ(params):\n",
    "        U3_layer(params[0])\n",
    "        IsingXYZ_layer(params[1])\n",
    "\n",
    "    qml.layer(U3_IsingXYZ,depth,params[:-1])\n",
    "    \n",
    "    return qml.expval(cost_h)"
   ]
  },
  {
   "cell_type": "code",
   "execution_count": 102,
   "id": "3c6e3572-a055-48b1-b11c-cfdce2fdeb04",
   "metadata": {
    "tags": []
   },
   "outputs": [
    {
     "name": "stdout",
     "output_type": "stream",
     "text": [
      "Iter:     1 | Cost: -1.9064569029 \n",
      "Iter:   101 | Cost: -6.4640025815 \n",
      "Iter:   201 | Cost: -6.4624842925 \n",
      "Iter:   301 | Cost: -6.4303568797 \n",
      "Iter:   401 | Cost: -6.4548905045 \n",
      "Iter:   501 | Cost: -6.4614619469 \n",
      "Iter:   601 | Cost: -6.4485568657 \n",
      "Iter:   701 | Cost: -6.4577642811 \n",
      "Iter:   801 | Cost: -6.4059367165 \n",
      "Iter:   901 | Cost: -6.4051266748 \n",
      "best_cost =  -6.464099028748394\n"
     ]
    }
   ],
   "source": [
    "n = 4\n",
    "depth = 4\n",
    "n_wires = n\n",
    "dev = qml.device('default.qubit', wires=n_wires)\n",
    "cost_h = generate_Heisenberg_hamiltonian(n)\n",
    "\n",
    "@qml.qnode(dev)\n",
    "def cost_fn(params):\n",
    "    return qnn_model(params,depth,cost_h)\n",
    "\n",
    "optimizer = qml.AdamOptimizer(stepsize=0.2)\n",
    "init_params = np.random.uniform(-1/depth*np.pi,1/depth*np.pi,size = (depth+1,2,n_wires*3))\n",
    "steps = 1000\n",
    "params = init_params\n",
    "best_params = params\n",
    "best_cost = 0\n",
    "for i in range(steps):\n",
    "        params = optimizer.step(cost_fn, params)\n",
    "        cost_tmp = cost_fn(params)\n",
    "        if(cost_tmp < best_cost):\n",
    "                best_cost =cost_tmp\n",
    "                best_params = params\n",
    "        if( i % 100 == 0):\n",
    "            print(\n",
    "                    \"Iter: {:5d} | Cost: {:0.10f} \"\n",
    "                    \"\".format(i + 1, cost_fn(params)))\n",
    "print(\"best_cost = \",best_cost)"
   ]
  },
  {
   "cell_type": "code",
   "execution_count": 101,
   "id": "4c7cbc66-170d-4e49-ad8a-0002930e1eb2",
   "metadata": {
    "tags": []
   },
   "outputs": [
    {
     "name": "stdout",
     "output_type": "stream",
     "text": [
      "Iter:     1 | Cost: -1.2490150850 \n",
      "Iter:   101 | Cost: -7.6994295353 \n",
      "Iter:   201 | Cost: -7.7031429422 \n",
      "Iter:   301 | Cost: -7.7034338988 \n",
      "Iter:   401 | Cost: -7.7055427796 \n",
      "Iter:   501 | Cost: -7.7084903935 \n",
      "Iter:   601 | Cost: -7.7072087108 \n",
      "Iter:   701 | Cost: -7.6401847383 \n",
      "Iter:   801 | Cost: -7.6969825252 \n",
      "Iter:   901 | Cost: -7.6876499504 \n",
      "best_cost =  -7.7096774160358095\n"
     ]
    }
   ],
   "source": [
    "n = 5\n",
    "depth = 4\n",
    "n_wires = n\n",
    "dev = qml.device('default.qubit', wires=n_wires)\n",
    "cost_h = generate_Heisenberg_hamiltonian(n)\n",
    "\n",
    "@qml.qnode(dev)\n",
    "def cost_fn(params):\n",
    "    return qnn_model(params,depth,cost_h)\n",
    "\n",
    "optimizer = qml.AdamOptimizer(stepsize=0.2)\n",
    "init_params = np.random.uniform(-1/depth*np.pi,1/depth*np.pi,size = (depth+1,2,n_wires*3))\n",
    "steps = 1000\n",
    "params = init_params\n",
    "best_params = params\n",
    "best_cost = 0\n",
    "for i in range(steps):\n",
    "        params = optimizer.step(cost_fn, params)\n",
    "        cost_tmp = cost_fn(params)\n",
    "        if(cost_tmp < best_cost):\n",
    "                best_cost =cost_tmp\n",
    "                best_params = params\n",
    "        if( i % 100 == 0):\n",
    "            print(\n",
    "                    \"Iter: {:5d} | Cost: {:0.10f} \"\n",
    "                    \"\".format(i + 1, cost_fn(params)))\n",
    "print(\"best_cost = \",best_cost)"
   ]
  },
  {
   "cell_type": "code",
   "execution_count": 99,
   "id": "98c60156-97ec-435c-96ab-3ea73afc79e8",
   "metadata": {
    "tags": []
   },
   "outputs": [
    {
     "name": "stdout",
     "output_type": "stream",
     "text": [
      "Iter:     1 | Cost: -1.6865818539 \n",
      "Iter:   101 | Cost: -9.9520136980 \n",
      "Iter:   201 | Cost: -9.9713003644 \n",
      "Iter:   301 | Cost: -9.9735023872 \n",
      "Iter:   401 | Cost: -9.9720093550 \n",
      "Iter:   501 | Cost: -9.9624799837 \n",
      "Iter:   601 | Cost: -9.9673426227 \n",
      "Iter:   701 | Cost: -9.9661537660 \n",
      "Iter:   801 | Cost: -9.9726984797 \n",
      "Iter:   901 | Cost: -9.9706013400 \n",
      "best_cost =  -9.974049496422639\n"
     ]
    }
   ],
   "source": [
    "n = 6\n",
    "depth = 4\n",
    "n_wires = n\n",
    "dev = qml.device('default.qubit', wires=n_wires)\n",
    "cost_h = generate_Heisenberg_hamiltonian(n)\n",
    "\n",
    "@qml.qnode(dev)\n",
    "def cost_fn(params):\n",
    "    return qnn_model(params,depth,cost_h)\n",
    "\n",
    "optimizer = qml.AdamOptimizer(stepsize=0.1)\n",
    "init_params = np.random.uniform(-1/depth*np.pi,1/depth*np.pi,size = (depth+1,2,n_wires*3))\n",
    "steps = 1000\n",
    "params = init_params\n",
    "best_params = params\n",
    "best_cost = 0\n",
    "for i in range(steps):\n",
    "        params = optimizer.step(cost_fn, params)\n",
    "        cost_tmp = cost_fn(params)\n",
    "        if(cost_tmp < best_cost):\n",
    "                best_cost =cost_tmp\n",
    "                best_params = params\n",
    "        if( i % 100 == 0):\n",
    "            print(\n",
    "                    \"Iter: {:5d} | Cost: {:0.10f} \"\n",
    "                    \"\".format(i + 1, cost_fn(params)))\n",
    "print(\"best_cost = \",best_cost)"
   ]
  },
  {
   "cell_type": "code",
   "execution_count": 96,
   "id": "312ac30b-c003-4b5d-b581-9d2e340ec024",
   "metadata": {
    "tags": []
   },
   "outputs": [
    {
     "name": "stdout",
     "output_type": "stream",
     "text": [
      "Iter:     1 | Cost: -0.9841177870 \n",
      "Iter:   101 | Cost: -11.1959838567 \n",
      "Iter:   201 | Cost: -11.3079321429 \n",
      "Iter:   301 | Cost: -11.3021551945 \n",
      "Iter:   401 | Cost: -11.2878516937 \n",
      "Iter:   501 | Cost: -11.3267215099 \n",
      "Iter:   601 | Cost: -11.3335424091 \n",
      "Iter:   701 | Cost: -11.3308169365 \n",
      "Iter:   801 | Cost: -11.3328468215 \n",
      "Iter:   901 | Cost: -11.2861402997 \n",
      "best_cost =  -11.336856144837238\n"
     ]
    }
   ],
   "source": [
    "n = 7\n",
    "depth = 4\n",
    "n_wires = n\n",
    "dev = qml.device('default.qubit', wires=n_wires)\n",
    "cost_h = generate_Heisenberg_hamiltonian(n)\n",
    "\n",
    "@qml.qnode(dev)\n",
    "def cost_fn(params):\n",
    "    return qnn_model(params,depth,cost_h)\n",
    "\n",
    "optimizer = qml.AdamOptimizer(stepsize=0.1)\n",
    "init_params = np.random.uniform(-1/depth*np.pi,1/depth*np.pi,size = (depth+1,2,n_wires*3))\n",
    "steps = 1000\n",
    "params = init_params\n",
    "best_params = params\n",
    "best_cost = 0\n",
    "for i in range(steps):\n",
    "        params = optimizer.step(cost_fn, params)\n",
    "        cost_tmp = cost_fn(params)\n",
    "        if(cost_tmp < best_cost):\n",
    "                best_cost =cost_tmp\n",
    "                best_params = params\n",
    "        if( i % 100 == 0):\n",
    "            print(\n",
    "                    \"Iter: {:5d} | Cost: {:0.10f} \"\n",
    "                    \"\".format(i + 1, cost_fn(params)))\n",
    "print(\"best_cost = \",best_cost)"
   ]
  },
  {
   "cell_type": "code",
   "execution_count": 94,
   "id": "246a9ea5-fa58-476d-bd05-46dd0fccded7",
   "metadata": {
    "tags": []
   },
   "outputs": [
    {
     "name": "stdout",
     "output_type": "stream",
     "text": [
      "Iter:     1 | Cost: 0.9630336179 \n",
      "Iter:   101 | Cost: -13.4498684021 \n",
      "Iter:   201 | Cost: -13.4606706574 \n",
      "Iter:   301 | Cost: -13.4751287748 \n",
      "Iter:   401 | Cost: -13.4362727901 \n",
      "Iter:   501 | Cost: -13.4868449423 \n",
      "Iter:   601 | Cost: -13.4867337679 \n",
      "Iter:   701 | Cost: -13.4617123778 \n",
      "Iter:   801 | Cost: -13.4825689915 \n",
      "Iter:   901 | Cost: -13.4911436552 \n",
      "best_cost =  -13.492362472499543\n"
     ]
    }
   ],
   "source": [
    "n = 8\n",
    "depth = 4\n",
    "n_wires = n\n",
    "dev = qml.device('default.qubit', wires=n_wires)\n",
    "cost_h = generate_Heisenberg_hamiltonian(n)\n",
    "\n",
    "@qml.qnode(dev)\n",
    "def cost_fn(params):\n",
    "    return qnn_model(params,depth,cost_h)\n",
    "\n",
    "optimizer = qml.AdamOptimizer(stepsize=0.1)\n",
    "init_params = np.random.uniform(-1/depth*np.pi,1/depth*np.pi,size = (depth+1,2,n_wires*3))\n",
    "steps = 1000\n",
    "params = init_params\n",
    "best_params = params\n",
    "best_cost = 0\n",
    "for i in range(steps):\n",
    "        params = optimizer.step(cost_fn, params)\n",
    "        cost_tmp = cost_fn(params)\n",
    "        if(cost_tmp < best_cost):\n",
    "                best_cost =cost_tmp\n",
    "                best_params = params\n",
    "        if( i % 100 == 0):\n",
    "            print(\n",
    "                    \"Iter: {:5d} | Cost: {:0.10f} \"\n",
    "                    \"\".format(i + 1, cost_fn(params)))\n",
    "print(\"best_cost = \",best_cost)"
   ]
  },
  {
   "cell_type": "code",
   "execution_count": 104,
   "id": "460996e2-5cc6-408c-a3c5-b8d52443f250",
   "metadata": {
    "tags": []
   },
   "outputs": [
    {
     "name": "stdout",
     "output_type": "stream",
     "text": [
      "Iter:     1 | Cost: -1.3199894221 \n",
      "Iter:   101 | Cost: -14.9260161960 \n",
      "Iter:   201 | Cost: -14.9229251786 \n",
      "Iter:   301 | Cost: -14.9256587373 \n",
      "Iter:   401 | Cost: -14.9345237969 \n",
      "Iter:   501 | Cost: -14.9259298616 \n",
      "Iter:   601 | Cost: -14.9368419352 \n",
      "Iter:   701 | Cost: -14.9188465412 \n",
      "Iter:   801 | Cost: -14.9110912926 \n",
      "Iter:   901 | Cost: -14.9176950578 \n",
      "best_cost =  -14.940541397947392\n"
     ]
    }
   ],
   "source": [
    "n = 9\n",
    "depth = 9\n",
    "n_wires = n\n",
    "dev = qml.device('default.qubit', wires=n_wires)\n",
    "cost_h = generate_Heisenberg_hamiltonian(n)\n",
    "\n",
    "@qml.qnode(dev)\n",
    "def cost_fn(params):\n",
    "    return qnn_model(params,depth,cost_h)\n",
    "\n",
    "optimizer = qml.AdamOptimizer(stepsize=0.1)\n",
    "init_params = np.random.uniform(-1/depth*np.pi,1/depth*np.pi,size = (depth+1,2,n_wires*3))\n",
    "steps = 1000\n",
    "params = init_params\n",
    "best_params = params\n",
    "best_cost = 0\n",
    "for i in range(steps):\n",
    "        params = optimizer.step(cost_fn, params)\n",
    "        cost_tmp = cost_fn(params)\n",
    "        if(cost_tmp < best_cost):\n",
    "                best_cost =cost_tmp\n",
    "                best_params = params\n",
    "        if( i % 100 == 0):\n",
    "            print(\n",
    "                    \"Iter: {:5d} | Cost: {:0.10f} \"\n",
    "                    \"\".format(i + 1, cost_fn(params)))\n",
    "print(\"best_cost = \",best_cost)"
   ]
  },
  {
   "cell_type": "code",
   "execution_count": 105,
   "id": "594212e7-329c-4ef6-9236-6cb010423fa8",
   "metadata": {
    "tags": []
   },
   "outputs": [
    {
     "name": "stdout",
     "output_type": "stream",
     "text": [
      "Iter:     1 | Cost: 2.5627972491 \n",
      "Iter:   101 | Cost: -16.9860244465 \n",
      "Iter:   201 | Cost: -17.0081167197 \n",
      "Iter:   301 | Cost: -16.9830253385 \n",
      "Iter:   401 | Cost: -17.0031120662 \n",
      "Iter:   501 | Cost: -17.0123298597 \n",
      "Iter:   601 | Cost: -17.0156906449 \n",
      "Iter:   701 | Cost: -16.9960463697 \n",
      "Iter:   801 | Cost: -17.0221588753 \n",
      "Iter:   901 | Cost: -17.0216445438 \n",
      "best_cost =  -17.027377362167197\n"
     ]
    }
   ],
   "source": [
    "n = 10\n",
    "depth = 10\n",
    "n_wires = n\n",
    "dev = qml.device('default.qubit', wires=n_wires)\n",
    "cost_h = generate_Heisenberg_hamiltonian(n)\n",
    "\n",
    "@qml.qnode(dev)\n",
    "def cost_fn(params):\n",
    "    return qnn_model(params,depth,cost_h)\n",
    "\n",
    "optimizer = qml.AdamOptimizer(stepsize=0.1)\n",
    "init_params = np.random.uniform(-1/depth*np.pi,1/depth*np.pi,size = (depth+1,2,n_wires*3))\n",
    "steps = 1000\n",
    "params = init_params\n",
    "best_params = params\n",
    "best_cost = 0\n",
    "for i in range(steps):\n",
    "        params = optimizer.step(cost_fn, params)\n",
    "        cost_tmp = cost_fn(params)\n",
    "        if(cost_tmp < best_cost):\n",
    "                best_cost =cost_tmp\n",
    "                best_params = params\n",
    "        if( i % 100 == 0):\n",
    "            print(\n",
    "                    \"Iter: {:5d} | Cost: {:0.10f} \"\n",
    "                    \"\".format(i + 1, cost_fn(params)))\n",
    "print(\"best_cost = \",best_cost)"
   ]
  },
  {
   "cell_type": "code",
   "execution_count": 106,
   "id": "fe91bc89-e21e-4256-88bb-c94d84228780",
   "metadata": {
    "tags": []
   },
   "outputs": [
    {
     "name": "stdout",
     "output_type": "stream",
     "text": [
      "Iter:     1 | Cost: 2.3531702521 \n",
      "Iter:   101 | Cost: -18.4037190016 \n",
      "Iter:   201 | Cost: -18.3881452777 \n",
      "Iter:   301 | Cost: -18.4273047162 \n",
      "Iter:   401 | Cost: -18.4841174126 \n",
      "Iter:   501 | Cost: -18.4680682321 \n",
      "Iter:   601 | Cost: -18.4206705532 \n",
      "Iter:   701 | Cost: -18.5053437965 \n",
      "Iter:   801 | Cost: -18.4857840858 \n",
      "Iter:   901 | Cost: -18.4938752980 \n",
      "best_cost =  -18.515710073693807\n"
     ]
    }
   ],
   "source": [
    "n = 11\n",
    "depth = 11\n",
    "n_wires = n\n",
    "dev = qml.device('default.qubit', wires=n_wires)\n",
    "cost_h = generate_Heisenberg_hamiltonian(n)\n",
    "\n",
    "@qml.qnode(dev)\n",
    "def cost_fn(params):\n",
    "    return qnn_model(params,depth,cost_h)\n",
    "\n",
    "optimizer = qml.AdamOptimizer(stepsize=0.1)\n",
    "init_params = np.random.uniform(-1/depth*np.pi,1/depth*np.pi,size = (depth+1,2,n_wires*3))\n",
    "steps = 1000\n",
    "params = init_params\n",
    "best_params = params\n",
    "best_cost = 0\n",
    "for i in range(steps):\n",
    "        params = optimizer.step(cost_fn, params)\n",
    "        cost_tmp = cost_fn(params)\n",
    "        if(cost_tmp < best_cost):\n",
    "                best_cost =cost_tmp\n",
    "                best_params = params\n",
    "        if( i % 100 == 0):\n",
    "            print(\n",
    "                    \"Iter: {:5d} | Cost: {:0.10f} \"\n",
    "                    \"\".format(i + 1, cost_fn(params)))\n",
    "print(\"best_cost = \",best_cost)"
   ]
  },
  {
   "cell_type": "code",
   "execution_count": 110,
   "id": "3361991d-7f5d-42cb-be55-5d0072ada41b",
   "metadata": {
    "tags": []
   },
   "outputs": [
    {
     "name": "stdout",
     "output_type": "stream",
     "text": [
      "Iter:     1 | Cost: 2.0700028342 \n",
      "Iter:   101 | Cost: -20.4920779478 \n",
      "Iter:   201 | Cost: -20.4449952859 \n",
      "Iter:   301 | Cost: -20.4347338077 \n",
      "Iter:   401 | Cost: -20.4990702647 \n",
      "Iter:   501 | Cost: -20.5184434123 \n",
      "Iter:   601 | Cost: -20.5369878104 \n",
      "Iter:   701 | Cost: -20.5130054443 \n",
      "Iter:   801 | Cost: -20.5442340016 \n",
      "Iter:   901 | Cost: -20.5265837674 \n",
      "best_cost =  -20.550576406512622\n"
     ]
    }
   ],
   "source": [
    "n = 12\n",
    "depth = 12\n",
    "n_wires = n\n",
    "dev = qml.device('default.qubit', wires=n_wires)\n",
    "cost_h = generate_Heisenberg_hamiltonian(n)\n",
    "\n",
    "@qml.qnode(dev)\n",
    "def cost_fn(params):\n",
    "    return qnn_model(params,depth,cost_h)\n",
    "\n",
    "optimizer = qml.AdamOptimizer(stepsize=0.1)\n",
    "init_params = np.random.uniform(-1/depth*np.pi,1/depth*np.pi,size = (depth+1,2,n_wires*3))\n",
    "steps = 1000\n",
    "params = init_params\n",
    "best_params = params\n",
    "best_cost = 0\n",
    "for i in range(steps):\n",
    "        params = optimizer.step(cost_fn, params)\n",
    "        cost_tmp = cost_fn(params)\n",
    "        if(cost_tmp < best_cost):\n",
    "                best_cost =cost_tmp\n",
    "                best_params = params\n",
    "        if( i % 100 == 0):\n",
    "            print(\n",
    "                    \"Iter: {:5d} | Cost: {:0.10f} \"\n",
    "                    \"\".format(i + 1, cost_fn(params)))\n",
    "print(\"best_cost = \",best_cost)"
   ]
  },
  {
   "cell_type": "code",
   "execution_count": 109,
   "id": "a1ea08ad-1f4e-4bfd-8204-b6937b0f423d",
   "metadata": {
    "tags": []
   },
   "outputs": [
    {
     "name": "stdout",
     "output_type": "stream",
     "text": [
      "Iter:     1 | Cost: 3.2515176568 \n",
      "Iter:   101 | Cost: -21.8844473165 \n",
      "Iter:   201 | Cost: -21.9961541904 \n",
      "Iter:   301 | Cost: -21.7070648817 \n",
      "Iter:   401 | Cost: -21.9980377044 \n",
      "Iter:   501 | Cost: -21.9474763572 \n",
      "Iter:   601 | Cost: -22.0117437722 \n",
      "Iter:   701 | Cost: -21.9694764777 \n",
      "Iter:   801 | Cost: -21.9481724924 \n",
      "Iter:   901 | Cost: -22.0597729929 \n",
      "best_cost =  -22.079562924658916\n"
     ]
    }
   ],
   "source": [
    "n = 13\n",
    "depth = 13\n",
    "n_wires = n\n",
    "dev = qml.device('default.qubit', wires=n_wires)\n",
    "cost_h = generate_Heisenberg_hamiltonian(n)\n",
    "\n",
    "@qml.qnode(dev)\n",
    "def cost_fn(params):\n",
    "    return qnn_model(params,depth,cost_h)\n",
    "\n",
    "optimizer = qml.AdamOptimizer(stepsize=0.1)\n",
    "init_params = np.random.uniform(-1/depth*np.pi,1/depth*np.pi,size = (depth+1,2,n_wires*3))\n",
    "steps = 1000\n",
    "params = init_params\n",
    "best_params = params\n",
    "best_cost = 0\n",
    "for i in range(steps):\n",
    "        params = optimizer.step(cost_fn, params)\n",
    "        cost_tmp = cost_fn(params)\n",
    "        if(cost_tmp < best_cost):\n",
    "                best_cost =cost_tmp\n",
    "                best_params = params\n",
    "        if( i % 100 == 0):\n",
    "            print(\n",
    "                    \"Iter: {:5d} | Cost: {:0.10f} \"\n",
    "                    \"\".format(i + 1, cost_fn(params)))\n",
    "print(\"best_cost = \",best_cost)"
   ]
  },
  {
   "cell_type": "code",
   "execution_count": 108,
   "id": "7e0251ec-8de5-4dd0-997e-81ba67ebecbd",
   "metadata": {
    "tags": []
   },
   "outputs": [
    {
     "name": "stdout",
     "output_type": "stream",
     "text": [
      "Iter:     1 | Cost: 4.9820427210 \n",
      "Iter:   101 | Cost: -23.8173749081 \n",
      "Iter:   201 | Cost: -23.8961347870 \n",
      "Iter:   301 | Cost: -24.0197555689 \n",
      "Iter:   401 | Cost: -23.9550081530 \n",
      "Iter:   501 | Cost: -24.0088101808 \n",
      "Iter:   601 | Cost: -24.0484891732 \n",
      "Iter:   701 | Cost: -23.9856505695 \n",
      "Iter:   801 | Cost: -24.0215152690 \n",
      "Iter:   901 | Cost: -24.0077276500 \n",
      "best_cost =  -24.062238619518762\n"
     ]
    }
   ],
   "source": [
    "n = 14\n",
    "depth = 14\n",
    "n_wires = n\n",
    "dev = qml.device('default.qubit', wires=n_wires)\n",
    "cost_h = generate_Heisenberg_hamiltonian(n)\n",
    "\n",
    "@qml.qnode(dev)\n",
    "def cost_fn(params):\n",
    "    return qnn_model(params,depth,cost_h)\n",
    "\n",
    "optimizer = qml.AdamOptimizer(stepsize=0.1)\n",
    "init_params = np.random.uniform(-1/depth*np.pi,1/depth*np.pi,size = (depth+1,2,n_wires*3))\n",
    "steps = 1000\n",
    "params = init_params\n",
    "best_params = params\n",
    "best_cost = 0\n",
    "for i in range(steps):\n",
    "        params = optimizer.step(cost_fn, params)\n",
    "        cost_tmp = cost_fn(params)\n",
    "        if(cost_tmp < best_cost):\n",
    "                best_cost =cost_tmp\n",
    "                best_params = params\n",
    "        if( i % 100 == 0):\n",
    "            print(\n",
    "                    \"Iter: {:5d} | Cost: {:0.10f} \"\n",
    "                    \"\".format(i + 1, cost_fn(params)))\n",
    "print(\"best_cost = \",best_cost)"
   ]
  },
  {
   "cell_type": "code",
   "execution_count": 107,
   "id": "cf35693f-99ad-45ec-a67e-50f61febf1b4",
   "metadata": {
    "tags": []
   },
   "outputs": [
    {
     "name": "stdout",
     "output_type": "stream",
     "text": [
      "Iter:     1 | Cost: 2.5235741822 \n",
      "Iter:   101 | Cost: -25.4827514979 \n",
      "Iter:   201 | Cost: -25.5254218507 \n",
      "Iter:   301 | Cost: -25.5328326226 \n",
      "Iter:   401 | Cost: -25.5478371355 \n",
      "Iter:   501 | Cost: -25.5879956744 \n",
      "Iter:   601 | Cost: -25.5363103290 \n",
      "Iter:   701 | Cost: -25.5644183163 \n",
      "Iter:   801 | Cost: -25.5378510793 \n",
      "Iter:   901 | Cost: -25.4941571132 \n",
      "best_cost =  -25.6185560845312\n"
     ]
    }
   ],
   "source": [
    "n = 15\n",
    "depth = 15\n",
    "n_wires = n\n",
    "dev = qml.device('default.qubit', wires=n_wires)\n",
    "cost_h = generate_Heisenberg_hamiltonian(n)\n",
    "\n",
    "@qml.qnode(dev)\n",
    "def cost_fn(params):\n",
    "    return qnn_model(params,depth,cost_h)\n",
    "\n",
    "optimizer = qml.AdamOptimizer(stepsize=0.1)\n",
    "init_params = np.random.uniform(-1/depth*np.pi,1/depth*np.pi,size = (depth+1,2,n_wires*3))\n",
    "steps = 1000\n",
    "params = init_params\n",
    "best_params = params\n",
    "best_cost = 0\n",
    "for i in range(steps):\n",
    "        params = optimizer.step(cost_fn, params)\n",
    "        cost_tmp = cost_fn(params)\n",
    "        if(cost_tmp < best_cost):\n",
    "                best_cost =cost_tmp\n",
    "                best_params = params\n",
    "        if( i % 100 == 0):\n",
    "            print(\n",
    "                    \"Iter: {:5d} | Cost: {:0.10f} \"\n",
    "                    \"\".format(i + 1, cost_fn(params)))\n",
    "print(\"best_cost = \",best_cost)"
   ]
  },
  {
   "cell_type": "code",
   "execution_count": null,
   "id": "cbf04620-ed20-496d-9d41-63b65c89c647",
   "metadata": {},
   "outputs": [],
   "source": [
    "n = 15\n",
    "depth = 15\n",
    "n_wires = n\n",
    "dev = qml.device('default.qubit', wires=n_wires)\n",
    "cost_h = generate_Heisenberg_hamiltonian(n)\n",
    "\n",
    "@qml.qnode(dev)\n",
    "def cost_fn(params):\n",
    "    return qnn_model(params,depth,cost_h)\n",
    "\n",
    "optimizer = qml.AdamOptimizer(stepsize=0.1)\n",
    "init_params = np.random.uniform(-1/depth*np.pi,1/depth*np.pi,size = (depth+1,2,n_wires*3))\n",
    "steps = 1000\n",
    "params = init_params\n",
    "best_params = params\n",
    "best_cost = 0\n",
    "for i in range(steps):\n",
    "        params = optimizer.step(cost_fn, params)\n",
    "        cost_tmp = cost_fn(params)\n",
    "        if(cost_tmp < best_cost):\n",
    "                best_cost =cost_tmp\n",
    "                best_params = params\n",
    "        if( i % 100 == 0):\n",
    "            print(\n",
    "                    \"Iter: {:5d} | Cost: {:0.10f} \"\n",
    "                    \"\".format(i + 1, cost_fn(params)))\n",
    "print(\"best_cost = \",best_cost)"
   ]
  }
 ],
 "metadata": {
  "kernelspec": {
   "display_name": "Python 3 (ipykernel)",
   "language": "python",
   "name": "python3"
  },
  "language_info": {
   "codemirror_mode": {
    "name": "ipython",
    "version": 3
   },
   "file_extension": ".py",
   "mimetype": "text/x-python",
   "name": "python",
   "nbconvert_exporter": "python",
   "pygments_lexer": "ipython3",
   "version": "3.10.9"
  }
 },
 "nbformat": 4,
 "nbformat_minor": 5
}
