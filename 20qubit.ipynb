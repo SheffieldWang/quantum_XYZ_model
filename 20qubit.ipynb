{
 "cells": [
  {
   "cell_type": "code",
   "execution_count": 11,
   "id": "3e65a32d-c10d-4c9f-a400-6d92b6bdfe5e",
   "metadata": {
    "tags": []
   },
   "outputs": [],
   "source": [
    "import scipy as sp \n",
    "from matplotlib import pyplot as plt\n",
    "import cupy as cp\n",
    "from cupy.linalg import eigh\n",
    "\n",
    "from tqdm import *\n",
    "import time\n",
    "import pennylane as qml\n",
    "import pennylane.numpy as np "
   ]
  },
  {
   "cell_type": "code",
   "execution_count": 6,
   "id": "fe78292c-ad4b-475e-abb7-18b2268c9a65",
   "metadata": {
    "tags": []
   },
   "outputs": [],
   "source": [
    "def generate_Heisenberg_hamiltonian(n):\n",
    "    \"\"\"\n",
    "    Generating Hamiltonian of n-qubit Heisenberg model.\n",
    "\n",
    "    Args:\n",
    "        - n (int): The number of qubits \n",
    "\n",
    "    Returns:\n",
    "        - cost_h (qml.Hamiltonian): the hamiltonian of n-qubit Heisenberg model\n",
    "    \"\"\"\n",
    "    coeffs = [1]*3*(n-1)\n",
    "    obs = []\n",
    "    for i in range(n-1):\n",
    "        obs.append(qml.PauliX(i) @ qml.PauliX(i+1) )\n",
    "        obs.append(qml.PauliY(i) @ qml.PauliY(i+1) )\n",
    "        obs.append(qml.PauliZ(i) @ qml.PauliZ(i+1) )\n",
    "    cost_h = qml.Hamiltonian(coeffs, obs)\n",
    "    return cost_h"
   ]
  },
  {
   "cell_type": "code",
   "execution_count": 7,
   "id": "de985276-8c8d-4032-8ef3-e4aa8a1412de",
   "metadata": {
    "tags": []
   },
   "outputs": [],
   "source": [
    "def ground_energy(n):\n",
    "    \"\"\" \n",
    "    Computing the ground state energy (minimum eigenvalue) of the n-qubit Heisenberg model using CuPy.\n",
    "    \n",
    "    Args:\n",
    "        - n (int): The number of qubits. \n",
    "\n",
    "    Returns:\n",
    "        - min_energy (floats): Minimum eigenvalue of the Heisenberg model.\n",
    "    \n",
    "    \"\"\"\n",
    "    hamiltonian = generate_Heisenberg_hamiltonian(n)\n",
    "    hamiltonian_matrix = qml.matrix(hamiltonian)\n",
    "    h_matrix_cupy = cp.array(hamiltonian_matrix)\n",
    "    eigv,eigc = eigh(h_matrix_cupy)\n",
    "\n",
    "    return eigv[0]\n",
    "    "
   ]
  },
  {
   "cell_type": "code",
   "execution_count": 8,
   "id": "241ccd0e-041c-4b78-9d0e-da0dee9e5026",
   "metadata": {
    "tags": []
   },
   "outputs": [],
   "source": [
    "def qnn_model(params,depth,cost_h):\n",
    "    def U3_layer(params):\n",
    "        for i in range(n_wires):\n",
    "            qml.U3(params[3*i],params[3*i+1],params[3*i+2],wires=i)\n",
    "    \n",
    "    def IsingXYZ_layer(params):\n",
    "        for i in range(n_wires-1):\n",
    "            qml.IsingXY(params[3*i],wires=[i,(i+1)%n_wires])\n",
    "            qml.IsingXY(params[3*i+1],wires=[i,(i+1)%n_wires])\n",
    "            qml.IsingZZ(params[3*i+2],wires=[i,(i+1)%n_wires])\n",
    "            pass\n",
    "\n",
    "    def U3_IsingXYZ(params):\n",
    "        U3_layer(params[0])\n",
    "        IsingXYZ_layer(params[1])\n",
    "\n",
    "    qml.layer(U3_IsingXYZ,depth,params[:-1])\n",
    "    \n",
    "    return qml.expval(cost_h)"
   ]
  },
  {
   "cell_type": "code",
   "execution_count": 15,
   "id": "1409a03b-3dcd-4a33-b25b-2f4795016c84",
   "metadata": {
    "tags": []
   },
   "outputs": [
    {
     "name": "stdout",
     "output_type": "stream",
     "text": [
      "Iter:  1  |  energy value is  -1.9172185018786956   the duration is  23.02931785583496 s\n",
      "Iter:  11  |  energy value is  -27.516576583051418   the duration is  310.25386238098145 s\n",
      "Iter:  21  |  energy value is  -31.228787996286773   the duration is  599.3446316719055 s\n",
      "Iter:  31  |  energy value is  -32.77712500444348   the duration is  893.2062692642212 s\n",
      "Iter:  41  |  energy value is  -33.27422449383771   the duration is  1183.390209197998 s\n",
      "Iter:  51  |  energy value is  -33.51450242156993   the duration is  1473.6073241233826 s\n",
      "Iter:  61  |  energy value is  -33.62326998458488   the duration is  1770.2943587303162 s\n",
      "Iter:  71  |  energy value is  -33.68081782566351   the duration is  2077.7988543510437 s\n",
      "Iter:  81  |  energy value is  -33.733707171893634   the duration is  2385.907058238983 s\n",
      "Iter:  91  |  energy value is  -33.80190565778025   the duration is  2688.3033590316772 s\n",
      "Iter:  101  |  energy value is  -33.875227533089124   the duration is  2994.214384317398 s\n",
      "Iter:  111  |  energy value is  -33.976388384709786   the duration is  3309.3337259292603 s\n",
      "Iter:  121  |  energy value is  -34.13938785988105   the duration is  3624.324720144272 s\n",
      "Iter:  131  |  energy value is  -34.30847581848719   the duration is  3929.219630241394 s\n",
      "Iter:  141  |  energy value is  -34.37618374939189   the duration is  4228.393304109573 s\n",
      "Iter:  151  |  energy value is  -34.26521351828337   the duration is  4530.064543962479 s\n",
      "Iter:  161  |  energy value is  -34.43740467826159   the duration is  4831.624170780182 s\n",
      "Iter:  171  |  energy value is  -34.51127204185192   the duration is  5132.754991054535 s\n",
      "Iter:  181  |  energy value is  -34.52139659881357   the duration is  5433.448268651962 s\n",
      "Iter:  191  |  energy value is  -34.53142076363427   the duration is  5734.9490032196045 s\n"
     ]
    }
   ],
   "source": [
    "n = 20\n",
    "depth = 4\n",
    "n_wires = n\n",
    "dev = qml.device('default.qubit', wires=n_wires)\n",
    "cost_h = generate_Heisenberg_hamiltonian(n)\n",
    "\n",
    "@qml.qnode(dev)\n",
    "def cost_fn(params):\n",
    "    return qnn_model(params,depth,cost_h)\n",
    "\n",
    "optimizer = qml.AdamOptimizer(stepsize=0.2)\n",
    "init_params = np.random.uniform(-1/depth*np.pi,1/depth*np.pi,size = (depth+1,2,n_wires*3))\n",
    "steps = 200\n",
    "params = init_params\n",
    "start_time = time.time()\n",
    "for i in range(steps):\n",
    "        params = optimizer.step(cost_fn, params)\n",
    "        end_time = time.time()\n",
    "        cost_tmp = cost_fn(params)\n",
    "        duration = (end_time - start_time)\n",
    "        if( i % 10 == 0):\n",
    "            print(\"Iter: \", i+1, \" | \", \"energy value is \", cost_tmp, \"  the duration is \", duration, \"s\")"
   ]
  },
  {
   "cell_type": "code",
   "execution_count": null,
   "id": "659a4c62-4e7a-476d-b419-09e18438152a",
   "metadata": {},
   "outputs": [],
   "source": [
    "-33.733707171893634"
   ]
  }
 ],
 "metadata": {
  "kernelspec": {
   "display_name": "Python 3 (ipykernel)",
   "language": "python",
   "name": "python3"
  },
  "language_info": {
   "codemirror_mode": {
    "name": "ipython",
    "version": 3
   },
   "file_extension": ".py",
   "mimetype": "text/x-python",
   "name": "python",
   "nbconvert_exporter": "python",
   "pygments_lexer": "ipython3",
   "version": "3.10.9"
  }
 },
 "nbformat": 4,
 "nbformat_minor": 5
}
